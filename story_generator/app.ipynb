{
 "cells": [
  {
   "cell_type": "code",
   "execution_count": 1,
   "metadata": {},
   "outputs": [
    {
     "name": "stderr",
     "output_type": "stream",
     "text": [
      "2023-06-05 10:03:32.623212: I tensorflow/core/platform/cpu_feature_guard.cc:182] This TensorFlow binary is optimized to use available CPU instructions in performance-critical operations.\n",
      "To enable the following instructions: AVX2 FMA, in other operations, rebuild TensorFlow with the appropriate compiler flags.\n",
      "2023-06-05 10:03:35.145351: W tensorflow/compiler/tf2tensorrt/utils/py_utils.cc:38] TF-TRT Warning: Could not find TensorRT\n"
     ]
    }
   ],
   "source": [
    "from fastapi import FastAPI\n",
    "from transformers import pipeline\n",
    "from fastapi.encoders import jsonable_encoder\n",
    "from fastapi.staticfiles import StaticFiles"
   ]
  },
  {
   "cell_type": "code",
   "execution_count": 2,
   "metadata": {},
   "outputs": [],
   "source": [
    "def generator_text(theme: str, length: int, num_stories: int) :\n",
    "\n",
    "    generator = pipeline(\"text-generation\", model=\"gpt2\")\n",
    "    story_pattern = \"Once upon a time in the\"\n",
    "\n",
    "    res = generator(\n",
    "        f'{story_pattern} {theme}',\n",
    "        max_length=length,\n",
    "        num_return_sequences=num_stories,\n",
    "        return_full_text=True,\n",
    "    )\n",
    "    return jsonable_encoder({'story': res})"
   ]
  },
  {
   "cell_type": "code",
   "execution_count": 3,
   "metadata": {},
   "outputs": [
    {
     "name": "stderr",
     "output_type": "stream",
     "text": [
      "/root/.pyenv/versions/3.8.12/envs/simplon/lib/python3.8/site-packages/transformers/generation/utils.py:1201: UserWarning: You have modified the pretrained model configuration to control generation. This is a deprecated strategy to control generation and will be removed soon, in a future version. Please use a generation configuration file (see https://huggingface.co/docs/transformers/main_classes/text_generation)\n",
      "  warnings.warn(\n",
      "Setting `pad_token_id` to `eos_token_id`:50256 for open-end generation.\n"
     ]
    },
    {
     "data": {
      "text/plain": [
       "{'story': [{'generated_text': 'Once upon a time in the Hello World we were all a young boy and now, we are having to move our little world out into the world by the hour. Now the way in which we are getting there is more or less the same.\"\\n\\n\"To grow young and change lives is really all there is to it!\"\\n\\nIn other words, \"I was going to be a philosopher and now I am a politician.\"\\n\\nSo why, after his own life-changing experience in'},\n",
       "  {'generated_text': \"Once upon a time in the Hello Kitty story, which began in 2007, we're in the midst of the long journey and the journey of a woman of the hearts and souls of animals, and of time. This was a time when we'd just met one another once.\\n\\nI know this has been written into some blogs, but I feel that there are many, many times where I've written some sort of note about what happened after Hello Kitty. These were the moments of joy, sadness\"}]}"
      ]
     },
     "execution_count": 3,
     "metadata": {},
     "output_type": "execute_result"
    }
   ],
   "source": [
    "generator_text(\"Hello\", 100, 2)"
   ]
  }
 ],
 "metadata": {
  "kernelspec": {
   "display_name": "simplon",
   "language": "python",
   "name": "python3"
  },
  "language_info": {
   "codemirror_mode": {
    "name": "ipython",
    "version": 3
   },
   "file_extension": ".py",
   "mimetype": "text/x-python",
   "name": "python",
   "nbconvert_exporter": "python",
   "pygments_lexer": "ipython3",
   "version": "3.8.12"
  },
  "orig_nbformat": 4
 },
 "nbformat": 4,
 "nbformat_minor": 2
}
